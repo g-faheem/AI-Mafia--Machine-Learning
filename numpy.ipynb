{
 "cells": [
  {
   "cell_type": "code",
   "execution_count": 1,
   "id": "3a799b86-5052-4989-9e7c-f318ed907bc4",
   "metadata": {},
   "outputs": [
    {
     "name": "stdout",
     "output_type": "stream",
     "text": [
      "Requirement already satisfied: numpy in c:\\users\\mehru\\appdata\\local\\programs\\python\\python311\\lib\\site-packages (1.25.2)\n"
     ]
    },
    {
     "name": "stderr",
     "output_type": "stream",
     "text": [
      "\n",
      "[notice] A new release of pip is available: 23.2.1 -> 24.2\n",
      "[notice] To update, run: python.exe -m pip install --upgrade pip\n"
     ]
    }
   ],
   "source": [
    "!pip3 install numpy"
   ]
  },
  {
   "cell_type": "code",
   "execution_count": 2,
   "id": "56b706a0-221b-4433-8b49-9e370eafb8d5",
   "metadata": {},
   "outputs": [
    {
     "ename": "SyntaxError",
     "evalue": "invalid syntax (842801469.py, line 1)",
     "output_type": "error",
     "traceback": [
      "\u001b[1;36m  Cell \u001b[1;32mIn[2], line 1\u001b[1;36m\u001b[0m\n\u001b[1;33m    python.exe -m pip install --upgrade pip\u001b[0m\n\u001b[1;37m                  ^\u001b[0m\n\u001b[1;31mSyntaxError\u001b[0m\u001b[1;31m:\u001b[0m invalid syntax\n"
     ]
    }
   ],
   "source": [
    "python.exe -m pip install --upgrade pip"
   ]
  },
  {
   "cell_type": "code",
   "execution_count": 3,
   "id": "a812dc8f-a8ad-4e57-b8ef-51ac9e6c5be1",
   "metadata": {},
   "outputs": [
    {
     "name": "stdout",
     "output_type": "stream",
     "text": [
      "Requirement already satisfied: pip in c:\\users\\mehru\\appdata\\local\\programs\\python\\python311\\lib\\site-packages (23.2.1)\n",
      "Collecting pip\n",
      "  Obtaining dependency information for pip from https://files.pythonhosted.org/packages/d4/55/90db48d85f7689ec6f81c0db0622d704306c5284850383c090e6c7195a5c/pip-24.2-py3-none-any.whl.metadata\n",
      "  Using cached pip-24.2-py3-none-any.whl.metadata (3.6 kB)\n",
      "Using cached pip-24.2-py3-none-any.whl (1.8 MB)\n",
      "Installing collected packages: pip\n",
      "  Attempting uninstall: pip\n",
      "    Found existing installation: pip 23.2.1\n",
      "    Uninstalling pip-23.2.1:\n",
      "      Successfully uninstalled pip-23.2.1\n",
      "Successfully installed pip-24.2\n",
      "Note: you may need to restart the kernel to use updated packages.\n"
     ]
    }
   ],
   "source": [
    "pip install --upgrade pip"
   ]
  },
  {
   "cell_type": "code",
   "execution_count": 4,
   "id": "e47c0340-1103-466d-bd45-08c272374cd7",
   "metadata": {},
   "outputs": [],
   "source": [
    "import numpy as np"
   ]
  },
  {
   "cell_type": "code",
   "execution_count": 5,
   "id": "80552fe5-fec8-4753-bdbd-c980ad9436cf",
   "metadata": {},
   "outputs": [
    {
     "data": {
      "text/plain": [
       "numpy.ndarray"
      ]
     },
     "execution_count": 5,
     "metadata": {},
     "output_type": "execute_result"
    }
   ],
   "source": [
    "arr = np.array([[1,2,3],[4,5,6]])\n",
    "type(arr)\n"
   ]
  },
  {
   "cell_type": "code",
   "execution_count": 6,
   "id": "b6e823d7-68d0-4d0a-bed4-0f8b7e8e31e2",
   "metadata": {},
   "outputs": [
    {
     "data": {
      "text/plain": [
       "2"
      ]
     },
     "execution_count": 6,
     "metadata": {},
     "output_type": "execute_result"
    }
   ],
   "source": [
    "#n-dimentional array\n",
    "# can find no.of dimentions using ndim\n",
    "arr.ndim"
   ]
  },
  {
   "cell_type": "code",
   "execution_count": 10,
   "id": "beda7c25-09fb-4b82-bfee-e60ce34dd7ff",
   "metadata": {},
   "outputs": [
    {
     "data": {
      "text/plain": [
       "(2, 3)"
      ]
     },
     "execution_count": 10,
     "metadata": {},
     "output_type": "execute_result"
    }
   ],
   "source": [
    "#no. of rows, columns\n",
    "arr.shape"
   ]
  },
  {
   "cell_type": "code",
   "execution_count": 14,
   "id": "7225a43f-5b40-4176-adb2-78d2876bcb73",
   "metadata": {},
   "outputs": [
    {
     "name": "stdout",
     "output_type": "stream",
     "text": [
      "Array created using passed list:\n",
      " [[1. 2. 4.]\n",
      " [5. 7. 8.]]\n"
     ]
    }
   ],
   "source": [
    "\n",
    "# Creating an array from a list with type float\n",
    "a = np.array([[1, 2, 4], [5, 7, 8]], dtype='float')\n",
    "print('Array created using passed list:\\n', a)\n"
   ]
  },
  {
   "cell_type": "code",
   "execution_count": 15,
   "id": "bc3d80c3-95ec-4274-98ad-ed1f2412fbef",
   "metadata": {},
   "outputs": [
    {
     "name": "stdout",
     "output_type": "stream",
     "text": [
      "Array created using passed tuple :\n",
      " [1 3 2]\n"
     ]
    }
   ],
   "source": [
    "#  Creating array from tuple\n",
    "b = np.array((1,3,2))\n",
    "print('Array created using passed tuple :\\n', b)"
   ]
  },
  {
   "cell_type": "code",
   "execution_count": 17,
   "id": "89148973-0ef3-426c-ab0e-5c50fcbccff6",
   "metadata": {},
   "outputs": [
    {
     "name": "stdout",
     "output_type": "stream",
     "text": [
      "[[0. 0. 0. 0.]\n",
      " [0. 0. 0. 0.]\n",
      " [0. 0. 0. 0.]]\n"
     ]
    }
   ],
   "source": [
    "# Creating 3X4 array with all zeroes\n",
    "c = np.zeros((3,4))\n",
    "print(c)"
   ]
  },
  {
   "cell_type": "code",
   "execution_count": 23,
   "id": "9a9d30e1-0bcc-4474-ba63-8650631c4ed2",
   "metadata": {},
   "outputs": [
    {
     "data": {
      "text/plain": [
       "array([[1., 1., 1., 1.],\n",
       "       [1., 1., 1., 1.],\n",
       "       [1., 1., 1., 1.]])"
      ]
     },
     "execution_count": 23,
     "metadata": {},
     "output_type": "execute_result"
    }
   ],
   "source": [
    "np.ones((3,4))"
   ]
  },
  {
   "cell_type": "code",
   "execution_count": 24,
   "id": "4d4ac576-b2e7-4954-9a35-c12ba035a25b",
   "metadata": {},
   "outputs": [
    {
     "name": "stdout",
     "output_type": "stream",
     "text": [
      "[[1. 0. 0.]\n",
      " [0. 1. 0.]\n",
      " [0. 0. 1.]]\n"
     ]
    }
   ],
   "source": [
    "print(np.eye(3))"
   ]
  },
  {
   "cell_type": "code",
   "execution_count": 18,
   "id": "93a04d4e-e856-40e0-9d2a-d26dfbfdc0f3",
   "metadata": {},
   "outputs": [
    {
     "name": "stdout",
     "output_type": "stream",
     "text": [
      "[[6.+0.j 6.+0.j 6.+0.j]\n",
      " [6.+0.j 6.+0.j 6.+0.j]\n",
      " [6.+0.j 6.+0.j 6.+0.j]]\n"
     ]
    }
   ],
   "source": [
    "# Constant value, complex dtype array\n",
    "d = np.full((3,3), 6,dtype='complex')\n",
    "print(d)"
   ]
  },
  {
   "cell_type": "code",
   "execution_count": 19,
   "id": "e17ead9d-860c-4563-9c6a-25a4c85271b8",
   "metadata": {},
   "outputs": [
    {
     "name": "stdout",
     "output_type": "stream",
     "text": [
      "[[0.84131212 0.34266054]\n",
      " [0.5700494  0.7971223 ]]\n"
     ]
    }
   ],
   "source": [
    "# Random values array\n",
    "e = np.random.random((2,2))\n",
    "print(e)"
   ]
  },
  {
   "cell_type": "code",
   "execution_count": 20,
   "id": "9a46aa9a-9c8b-45ee-9869-337daa32d406",
   "metadata": {},
   "outputs": [
    {
     "name": "stdout",
     "output_type": "stream",
     "text": [
      "[ 0  5 10 15 20 25]\n"
     ]
    }
   ],
   "source": [
    "# Sequence of integers with steps of 5\n",
    "print(np.arange(0,30,5))"
   ]
  },
  {
   "cell_type": "code",
   "execution_count": null,
   "id": "c18b03d0-6436-4792-b6ff-41aa01c6aef2",
   "metadata": {},
   "outputs": [],
   "source": [
    "# to know more about a function, function_name+'?' + shift+enter\n",
    "# eg. np.arange?"
   ]
  },
  {
   "cell_type": "code",
   "execution_count": 25,
   "id": "7b5050bb-3525-4c1c-bcac-e7fe4df344f8",
   "metadata": {},
   "outputs": [
    {
     "name": "stdout",
     "output_type": "stream",
     "text": [
      "[0.         0.55555556 1.11111111 1.66666667 2.22222222 2.77777778\n",
      " 3.33333333 3.88888889 4.44444444 5.        ]\n"
     ]
    }
   ],
   "source": [
    "# 10 values between 0 and 5, sequentially\n",
    "print(np.linspace(0,5,10))"
   ]
  },
  {
   "cell_type": "code",
   "execution_count": 26,
   "id": "aef6c61c-a3d1-4cd9-a62d-d79f7059b894",
   "metadata": {},
   "outputs": [],
   "source": [
    "# arr.reshape(2,2,3) -> 3X4 to 2X2X3\n",
    "# arr.flatten() -> will flatten array to a single object\n"
   ]
  },
  {
   "cell_type": "code",
   "execution_count": 28,
   "id": "82628c48-2740-4c28-be53-89b021f563b9",
   "metadata": {},
   "outputs": [
    {
     "name": "stdout",
     "output_type": "stream",
     "text": [
      "C:\\Users\\mehru\n"
     ]
    }
   ],
   "source": [
    "cd"
   ]
  },
  {
   "cell_type": "code",
   "execution_count": 29,
   "id": "8bb9dd59-b523-4fcf-91ff-4485c663cc45",
   "metadata": {},
   "outputs": [
    {
     "name": "stdout",
     "output_type": "stream",
     "text": [
      "Initialized empty Git repository in C:/Users/mehru/.git/\n"
     ]
    }
   ],
   "source": [
    "!git init"
   ]
  },
  {
   "cell_type": "code",
   "execution_count": 30,
   "id": "27e8e55a-5e38-4304-ba12-e9895d04793e",
   "metadata": {},
   "outputs": [],
   "source": [
    "!git config --global user.name \"g-faheem\""
   ]
  },
  {
   "cell_type": "code",
   "execution_count": 31,
   "id": "d29b53c4-be46-4eaf-9ea9-3cbbf3cd2be8",
   "metadata": {},
   "outputs": [],
   "source": [
    "!git config --global user.email \"faheem.h.shaikh@gmail.com\""
   ]
  },
  {
   "cell_type": "code",
   "execution_count": null,
   "id": "634b98f1-d71d-4949-80b9-9be9ee939509",
   "metadata": {},
   "outputs": [],
   "source": [
    "!git remote add origin https://github.com/g-faheem/AI-Mafia--Machine-Learning.git\n"
   ]
  }
 ],
 "metadata": {
  "kernelspec": {
   "display_name": "Python 3 (ipykernel)",
   "language": "python",
   "name": "python3"
  },
  "language_info": {
   "codemirror_mode": {
    "name": "ipython",
    "version": 3
   },
   "file_extension": ".py",
   "mimetype": "text/x-python",
   "name": "python",
   "nbconvert_exporter": "python",
   "pygments_lexer": "ipython3",
   "version": "3.11.5"
  }
 },
 "nbformat": 4,
 "nbformat_minor": 5
}
